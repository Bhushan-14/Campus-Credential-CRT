{
  "nbformat": 4,
  "nbformat_minor": 0,
  "metadata": {
    "colab": {
      "provenance": [],
      "authorship_tag": "ABX9TyPz8O6JwwgiCaPp8UOqeD1B",
      "include_colab_link": true
    },
    "kernelspec": {
      "name": "python3",
      "display_name": "Python 3"
    },
    "language_info": {
      "name": "python"
    }
  },
  "cells": [
    {
      "cell_type": "markdown",
      "metadata": {
        "id": "view-in-github",
        "colab_type": "text"
      },
      "source": [
        "<a href=\"https://colab.research.google.com/github/Bhushan-14/Campus-Credential-CRT/blob/main/CC_03_py.ipynb\" target=\"_parent\"><img src=\"https://colab.research.google.com/assets/colab-badge.svg\" alt=\"Open In Colab\"/></a>"
      ]
    },
    {
      "cell_type": "code",
      "source": [
        "#Class and object in Python:\n",
        "class Student():  #Parent class\n",
        "  def __init__(self, name, cls, div, roll_no):\n",
        "    self.name = name\n",
        "    self.cls = cls\n",
        "    self.div = div\n",
        "    self.roll_no = roll_no\n",
        "  def display(self):\n",
        "    print(\"\\n Student details: \")\n",
        "    print(\"Name: \",self.name)\n",
        "    print(\"Class: \",self.cls)\n",
        "    print(\"Division: \",self.div)\n",
        "    print(\"Roll Number: \",self.roll_no)\n",
        "name = input(\"Enter your name: \")\n",
        "cls = input(\"Enter your class: \")\n",
        "div = input(\"Enter your division: \")\n",
        "roll_no = int(input(\"Enter your Roll Number: \"))\n",
        "\n",
        "s = Student(name,cls,div,roll_no) #object of parent class\n",
        "s.display()\n",
        "\n",
        "class BTechStudent(Student):  #Child class\n",
        "  def get_name(self,name):\n",
        "    print(\"My name is: \",self.name)\n",
        "\n",
        "b = BTechStudent(name,cls,div,roll_no) #Object of Child Class\n",
        "b.get_name(name)\n"
      ],
      "metadata": {
        "colab": {
          "base_uri": "https://localhost:8080/"
        },
        "id": "9CX1MHMlGPFu",
        "outputId": "b8682da7-cbec-4e87-eeb2-1629986c5be0"
      },
      "execution_count": null,
      "outputs": [
        {
          "output_type": "stream",
          "name": "stdout",
          "text": [
            "Enter your name: Sagar\n",
            "Enter your class: Ty\n",
            "Enter your division: B\n",
            "Enter your Roll Number: 91\n",
            "\n",
            " Student details: \n",
            "Name:  Sagar\n",
            "Class:  Ty\n",
            "Division:  B\n",
            "Roll Number:  91\n",
            "My name is:  Sagar\n"
          ]
        }
      ]
    },
    {
      "cell_type": "code",
      "source": [
        "class ElectricityBillCalc():\n",
        "    def __init__(self, user_name, units_consumed):\n",
        "        self.user_name = user_name\n",
        "        self.units_consumed = units_consumed\n",
        "\n",
        "    def calculateBill(self):\n",
        "        if self.units_consumed <= 30:\n",
        "            bill = 1.5 * self.units_consumed\n",
        "        elif self.units_consumed <= 300:\n",
        "            bill = 34.5 + (3 * self.units_consumed)\n",
        "        else:\n",
        "            bill = 934.5 + (4.25 * self.units_consumed)\n",
        "\n",
        "        if bill > 500:\n",
        "          bill = bill+ ((15 * bill)/100)\n",
        "\n",
        "        return bill\n",
        "\n",
        "    def display(self):\n",
        "        print(\"Electricity Bill Details:\")\n",
        "        print(\"Customer Name:\", self.user_name)\n",
        "        print(\"Units Consumed:\", self.units_consumed)\n",
        "        print(\"Amount:\", self.calculateBill())\n",
        "\n",
        "user_name = input(\"Enter your name: \")\n",
        "units_consumed = float(input(\"Enter Units Consumed: \"))\n",
        "\n",
        "bill_calculator = ElectricityBillCalc(user_name, units_consumed)\n",
        "bill_calculator.display()\n"
      ],
      "metadata": {
        "colab": {
          "base_uri": "https://localhost:8080/"
        },
        "id": "K8USTtyUGjwS",
        "outputId": "1acbdefd-30a5-405c-d892-9ab666eb98d4"
      },
      "execution_count": null,
      "outputs": [
        {
          "output_type": "stream",
          "name": "stdout",
          "text": [
            "Enter your name: Sagar\n",
            "Enter Units Consumed: 192\n",
            "Electricity Bill Details:\n",
            "Customer Name: Sagar\n",
            "Units Consumed: 192.0\n",
            "Amount: 702.075\n"
          ]
        }
      ]
    },
    {
      "cell_type": "code",
      "source": [
        "class Sphere():\n",
        "    def __init__(self, radius):\n",
        "        self.radius = radius\n",
        "\n",
        "    def calculateSurfaceArea(self):\n",
        "        surface_area = 4 * 3.14 * self.radius * self.radius\n",
        "        return surface_area\n",
        "\n",
        "    def calculateVolume(self):\n",
        "        volume = (4/3) * 3.14 * self.radius * self.radius * self.radius\n",
        "        return volume\n",
        "\n",
        "    def display(self):\n",
        "        print(\"Geometrical Details of Sphere:\")\n",
        "        print(\"Surface area of sphere:\", self.calculateSurfaceArea())\n",
        "        print(\"Volume of Sphere:\", self.calculateVolume())\n",
        "\n",
        "radius = float(input(\"Enter a radius: \"))\n",
        "sphere = Sphere(radius)\n",
        "sphere.display()\n"
      ],
      "metadata": {
        "colab": {
          "base_uri": "https://localhost:8080/"
        },
        "id": "KGv3d_t_P41x",
        "outputId": "960dd2e7-29c9-4816-a35d-614cd57d205f"
      },
      "execution_count": null,
      "outputs": [
        {
          "output_type": "stream",
          "name": "stdout",
          "text": [
            "Enter a radius: 3\n",
            "Geometrical Details of Sphere:\n",
            "Surface area of sphere: 113.03999999999999\n",
            "Volume of Sphere: 113.03999999999998\n"
          ]
        }
      ]
    },
    {
      "cell_type": "code",
      "source": [
        "class Test:\n",
        "  def  _init_(self):\n",
        "    print(\" NO arrument\")\n",
        "\n",
        "  def _init_(self):\n",
        "    print(\" yes arrument\")\n",
        "\n",
        "t = Test()"
      ],
      "metadata": {
        "id": "a2akGJ_Hpn7X"
      },
      "execution_count": null,
      "outputs": []
    },
    {
      "cell_type": "code",
      "source": [
        "class Test:\n",
        "  def  _init_(self):\n",
        "    print(\" NO arrument\")\n",
        "\n",
        "  def func(self):\n",
        "    print(\" yes arrument\")\n",
        "\n",
        "t = Test()\n",
        "t.func()"
      ],
      "metadata": {
        "colab": {
          "base_uri": "https://localhost:8080/"
        },
        "id": "jpZGVHVjplTo",
        "outputId": "f26099a2-9c80-40c4-941d-79da45f5b0e1"
      },
      "execution_count": null,
      "outputs": [
        {
          "output_type": "stream",
          "name": "stdout",
          "text": [
            " yes arrument\n"
          ]
        }
      ]
    },
    {
      "cell_type": "code",
      "source": [
        "class Test(object) :\n",
        "  def  func1(self):\n",
        "    print(\" NO arrument\")\n",
        "  def  func2(self):\n",
        "    print(\" yes arrument\")\n",
        "\n",
        "t = Test()\n"
      ],
      "metadata": {
        "id": "Vs5_WlERhcaa"
      },
      "execution_count": null,
      "outputs": []
    },
    {
      "cell_type": "code",
      "source": [
        "class Student():\n",
        "  def __init__(self):\n",
        "    self.name = \"\"\n",
        "    self.roll_no = 0\n",
        "    self.per = 0.0\n",
        "    self.addr = \"\"\n",
        "\n",
        "  def takeInput(self):\n",
        "    self.name = input(\"Enter your Name: \")\n",
        "    self.roll_no = int(input(\"Enter your Roll Number: \"))\n",
        "    self.per = float(input(\"Enter percents: \"))\n",
        "    self.addr = input(\"Enter your Address: \")\n",
        "\n",
        "  def display(self):\n",
        "    print(\"Details:\")\n",
        "    print(f\"Name - {self.name}\")\n",
        "    print(f\"Roll Number - {self.roll_no} \")\n",
        "    print(f\"Percent - {self.per}\")\n",
        "\n",
        "    if self.per >= 75:\n",
        "      print(\"Class: Distinct\")\n",
        "    elif self.per >= 60 and self.per < 70:\n",
        "      print(\"Class: First Class\")\n",
        "    elif self.per >= 40 and self.per < 60:\n",
        "      print(\"Class: Second Class\")\n",
        "    else:\n",
        "      print(\"Fail\")\n",
        "\n",
        "    print(f\"Address - {self.addr}\")\n",
        "\n",
        "s1 = Student()\n",
        "s1.takeInput()\n",
        "s1.display()"
      ],
      "metadata": {
        "colab": {
          "base_uri": "https://localhost:8080/"
        },
        "id": "QSmKznWWqTbT",
        "outputId": "ffc952d8-eef2-435b-e7c0-2e4989666535"
      },
      "execution_count": null,
      "outputs": [
        {
          "output_type": "stream",
          "name": "stdout",
          "text": [
            "Enter your Name: Sagar\n",
            "Enter your Roll Number: 91\n",
            "Enter percents: 90\n",
            "Enter your Address: LokiPada\n",
            "Details:\n",
            "Name - Sagar\n",
            "Roll Number - 91 \n",
            "Percent - 90.0\n",
            "Class: Distinct\n",
            "Address - LokiPada\n"
          ]
        }
      ]
    },
    {
      "cell_type": "code",
      "source": [
        "#Caliing Distructor\n",
        "class Time:\n",
        "  def __init__(self):\n",
        "    print(\"Constructor is Called\")\n",
        "  def __del__(self):\n",
        "    print(\"Destructor is Called\")\n",
        "t = Time()\n",
        "t = None\n",
        "print(\"Application is end\")"
      ],
      "metadata": {
        "colab": {
          "base_uri": "https://localhost:8080/"
        },
        "id": "EBGXKxyYHZcy",
        "outputId": "a5442eed-699f-472d-9e0d-e48fc6ba6216"
      },
      "execution_count": 31,
      "outputs": [
        {
          "output_type": "stream",
          "name": "stdout",
          "text": [
            "Constructor is Called\n",
            "Destructor is Called\n",
            "Application is end\n",
            "Destructor is Called\n"
          ]
        }
      ]
    },
    {
      "cell_type": "code",
      "source": [
        "class Outer:\n",
        "  def __init__(self):\n",
        "    print(\"Class object Creation\")\n",
        "  class Inner:\n",
        "    def __init__(self):\n",
        "      print(\"Inner Class Object creation\")\n",
        "    def func(self):\n",
        "      print(\"This is Inner class Function\")\n",
        "o = Outer()\n",
        "i = o.Inner()\n",
        "i.func()\n",
        "j1 = Outer().Inner()\n",
        "j1.func()"
      ],
      "metadata": {
        "colab": {
          "base_uri": "https://localhost:8080/"
        },
        "id": "QhVCENLWICQZ",
        "outputId": "46eb924a-b970-4662-bd02-646777a25986"
      },
      "execution_count": 33,
      "outputs": [
        {
          "output_type": "stream",
          "name": "stdout",
          "text": [
            "Class object Creation\n",
            "Inner Class Object creation\n",
            "This is Inner class Function\n",
            "Class object Creation\n",
            "Inner Class Object creation\n",
            "This is Inner class Function\n"
          ]
        }
      ]
    },
    {
      "cell_type": "code",
      "source": [
        "class Raisoni:\n",
        "  def __init__(self):\n",
        "    print(\"Raisoni is default Constructor\")\n",
        "  class CSE:\n",
        "    def __init__(self):\n",
        "      print(\"CSE default Constructor\")\n",
        "    def techFest(self):\n",
        "      print(\"Raisoni - CSE branch Constructor\")\n",
        "\n",
        "r1 = Raisoni()\n",
        "r2 = r1.CSE()\n",
        "r2.techFest()\n",
        "\n",
        "obj = Raisoni().CSE()\n",
        "obj.techFest()"
      ],
      "metadata": {
        "colab": {
          "base_uri": "https://localhost:8080/"
        },
        "id": "QI1dsp7LH3T1",
        "outputId": "73d00e1e-5dce-4a06-e9a2-bd39142667e6"
      },
      "execution_count": 37,
      "outputs": [
        {
          "output_type": "stream",
          "name": "stdout",
          "text": [
            "Raisoni is default Constructor\n",
            "CSE default Constructor\n",
            "Raisoni - CSE branch Constructor\n",
            "Raisoni is default Constructor\n",
            "CSE default Constructor\n",
            "Raisoni - CSE branch Constructor\n"
          ]
        }
      ]
    },
    {
      "cell_type": "code",
      "source": [
        "class Bank:\n",
        "    def __init__(self):\n",
        "        self.name_of_the_depositor = \"\"\n",
        "        self.account_number = \"\"\n",
        "        self.type_of_account = \"\"\n",
        "        self.balance_amount = 0.0\n",
        "\n",
        "    def addData(self, name, account_number, account_type, initial_balance):\n",
        "        self.name_of_the_depositor = name\n",
        "        self.account_number = account_number\n",
        "        self.type_of_account = account_type\n",
        "        self.balance_amount = float(initial_balance)\n",
        "\n",
        "    def deposit(self, amount):\n",
        "        if amount > 0:\n",
        "            self.balance_amount = self.balance_amount + amount\n",
        "            print(f\"Deposited Rs. {amount:.2f} successfully.\")\n",
        "        else:\n",
        "            print(\"Invalid deposit amount.\")\n",
        "\n",
        "    def withdraw(self, amount):\n",
        "        if amount > 0:\n",
        "            if amount <= self.balance_amount:\n",
        "                self.balance_amount = self.balance_amount - amount\n",
        "                print(f\"Withdraw Rs. {amount:.2f} successfully.\")\n",
        "            else:\n",
        "                print(\"Insufficient balance. Withdrawal failed.\")\n",
        "        else:\n",
        "            print(\"Invalid withdrawal amount.\")\n",
        "\n",
        "    def display(self):\n",
        "        print(\"\\n\\nAccount Information:\")\n",
        "        print(f\"Name of the Depositor: {self.name_of_the_depositor}\")\n",
        "        print(f\"Account Number: {self.account_number}\")\n",
        "        print(f\"Account Type: {self.type_of_account}\")\n",
        "        print(f\"Balance Amount: Rs. {self.balance_amount:.2f}\")\n",
        "\n",
        "    def __del__(self):\n",
        "        print(f\"Account {self.account_number} deleted.\")\n",
        "\n",
        "name_of_the_depositor = input(\"Enter Depositor Name: \")\n",
        "account_number = int(input(\"Enter Account Number: \"))\n",
        "type_of_account = input(\"Enter Account Type: \")\n",
        "balance_amount = float(input(\"Enter Balance Amount: \"))\n",
        "\n",
        "account = Bank()\n",
        "account.addData(name_of_the_depositor, account_number, type_of_account, balance_amount)\n",
        "account.display()\n",
        "\n",
        "account.deposit(500.0)\n",
        "account.withdraw(300.0)\n",
        "account.display()\n"
      ],
      "metadata": {
        "colab": {
          "base_uri": "https://localhost:8080/"
        },
        "id": "rni7MJLMNGU_",
        "outputId": "f4227682-de8c-4ee1-9da2-a48f672589b7"
      },
      "execution_count": 50,
      "outputs": [
        {
          "output_type": "stream",
          "name": "stdout",
          "text": [
            "Enter Depositor Name: Sagar\n",
            "Enter Account Number: 123456\n",
            "Enter Account Type: Savings\n",
            "Enter Balance Amount: 10000\n",
            "\n",
            "\n",
            "Account Information:\n",
            "Name of the Depositor: Sagar\n",
            "Account Number: 123456\n",
            "Account Type: Savings\n",
            "Balance Amount: Rs. 10000.00\n",
            "Deposited Rs. 500.00 successfully.\n",
            "Withdraw Rs. 300.00 successfully.\n",
            "\n",
            "\n",
            "Account Information:\n",
            "Name of the Depositor: Sagar\n",
            "Account Number: 123456\n",
            "Account Type: Savings\n",
            "Balance Amount: Rs. 10200.00\n"
          ]
        }
      ]
    },
    {
      "cell_type": "code",
      "source": [
        "def removechar(word, ch):\n",
        "    i = 0\n",
        "    while i < len(word):\n",
        "        if word[i] == ch:\n",
        "            word = word[:i] + word[i+1:]\n",
        "            i = i - 1\n",
        "        i = i + 1\n",
        "    return word\n",
        "\n",
        "word = input(\"Enter any String: \")\n",
        "ch = input(\"Enter any character to remove from it: \")\n",
        "\n",
        "e_word = removechar(word, ch)\n",
        "\n",
        "if word == e_word:\n",
        "    print(\"The character is not found in the original string.\")\n",
        "else:\n",
        "    print(\"String after changes: \", e_word)\n",
        "\n"
      ],
      "metadata": {
        "colab": {
          "base_uri": "https://localhost:8080/"
        },
        "id": "iKO1bC98PJ5b",
        "outputId": "d39ca3bd-cdbf-485a-9a36-1d9b5413172c"
      },
      "execution_count": 54,
      "outputs": [
        {
          "output_type": "stream",
          "name": "stdout",
          "text": [
            "Enter any String: Sagar\n",
            "Enter any character to remove from it: r\n",
            "String after changes:  Saga\n"
          ]
        }
      ]
    },
    {
      "cell_type": "code",
      "source": [
        "def stockSpan(price):\n",
        "    n = len(price)\n",
        "    stack = []\n",
        "    span = [0] * n\n",
        "\n",
        "    for i in range(n):\n",
        "        while stack and price[i] >= price[stack[-1]]:\n",
        "            stack.pop()\n",
        "        if not stack:\n",
        "            span[i] = i + 1\n",
        "        else:\n",
        "            span[i] = i - stack[-1]\n",
        "        stack.append(i)\n",
        "\n",
        "    cubes = []\n",
        "    for i in range(n):\n",
        "        if span[i] > 1:\n",
        "            cubes.append(price[i] ** 3)\n",
        "\n",
        "    return cubes\n",
        "\n",
        "price = [100, 80, 60, 70, 60, 75, 85]\n",
        "cubes_with_span_greater_than_1 = stockSpan(price)\n",
        "print(cubes_with_span_greater_than_1)"
      ],
      "metadata": {
        "colab": {
          "base_uri": "https://localhost:8080/"
        },
        "id": "-YQPO1XWRXdz",
        "outputId": "e4fe153c-1dbb-41a7-f21e-40edd4598dae"
      },
      "execution_count": 55,
      "outputs": [
        {
          "output_type": "stream",
          "name": "stdout",
          "text": [
            "[343000, 421875, 614125]\n"
          ]
        }
      ]
    }
  ]
}