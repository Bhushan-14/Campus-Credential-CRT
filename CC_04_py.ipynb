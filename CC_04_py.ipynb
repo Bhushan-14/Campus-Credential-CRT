{
  "nbformat": 4,
  "nbformat_minor": 0,
  "metadata": {
    "colab": {
      "provenance": [],
      "authorship_tag": "ABX9TyPkdjG1VRdARpU+0lEGj81u",
      "include_colab_link": true
    },
    "kernelspec": {
      "name": "python3",
      "display_name": "Python 3"
    },
    "language_info": {
      "name": "python"
    }
  },
  "cells": [
    {
      "cell_type": "markdown",
      "metadata": {
        "id": "view-in-github",
        "colab_type": "text"
      },
      "source": [
        "<a href=\"https://colab.research.google.com/github/Bhushan-14/Campus-Credential-CRT/blob/main/CC_04_py.ipynb\" target=\"_parent\"><img src=\"https://colab.research.google.com/assets/colab-badge.svg\" alt=\"Open In Colab\"/></a>"
      ]
    },
    {
      "cell_type": "code",
      "execution_count": null,
      "metadata": {
        "colab": {
          "base_uri": "https://localhost:8080/"
        },
        "id": "FzvJ_kq1LItd",
        "outputId": "346ac940-dafa-409b-e6ed-73fcd167b656"
      },
      "outputs": [
        {
          "output_type": "stream",
          "name": "stdout",
          "text": [
            "I am parent\n",
            "I am a Child\n"
          ]
        }
      ],
      "source": [
        "class Parent:\n",
        "  def show1(self):\n",
        "    print(\"I am parent\")\n",
        "class Child(Parent):\n",
        "  def show2(self):\n",
        "    print(\"I am a Child\")\n",
        "\n",
        "obj1 = Child()\n",
        "obj1.show1()\n",
        "obj1.show2()"
      ]
    },
    {
      "cell_type": "code",
      "source": [
        "class A:\n",
        "  def show1(self):\n",
        "    print(\"Parent A\")\n",
        "class B:\n",
        "  def show2(self):\n",
        "    print(\"Parent B\")\n",
        "class C:\n",
        "  def show3(self):\n",
        "    print(\"Parent C\")\n",
        "class D(A,B,C):\n",
        "  def show4(self):\n",
        "    print(\"Combined child of A,B,C\")\n",
        "obj = D()\n",
        "\n",
        "obj.show1()\n",
        "obj.show2()\n",
        "obj.show3()\n",
        "obj.show4()"
      ],
      "metadata": {
        "colab": {
          "base_uri": "https://localhost:8080/"
        },
        "id": "Htxo99PHP8LZ",
        "outputId": "fc6d98bc-a625-4350-fb04-652a313f727b"
      },
      "execution_count": null,
      "outputs": [
        {
          "output_type": "stream",
          "name": "stdout",
          "text": [
            "Parent A\n",
            "Parent B\n",
            "Parent C\n",
            "Combined child of A,B,C\n"
          ]
        }
      ]
    },
    {
      "cell_type": "code",
      "source": [
        "#Multilevel\n",
        "class A :\n",
        "    def showA(self):\n",
        "        print(\"Class A\")\n",
        "\n",
        "class B(A) :\n",
        "    def showB(self):\n",
        "        print(\"class B\")\n",
        "\n",
        "class C(B):\n",
        "    def showC(self):\n",
        "        print(\"class C\")\n",
        "\n",
        "obj=A()\n",
        "obj.showA()\n",
        "\n",
        "obj2=B()\n",
        "obj2.showA()\n",
        "obj2.showB()\n",
        "\n",
        "obj3=C()\n",
        "obj3.showA()\n",
        "obj3.showB()\n",
        "obj3.showC()"
      ],
      "metadata": {
        "colab": {
          "base_uri": "https://localhost:8080/"
        },
        "id": "G5AlyaJOQHHz",
        "outputId": "5d505a79-faa5-4930-8b10-69dce165d979"
      },
      "execution_count": null,
      "outputs": [
        {
          "output_type": "stream",
          "name": "stdout",
          "text": [
            "Class A\n",
            "Class A\n",
            "class B\n",
            "Class A\n",
            "class B\n",
            "class C\n"
          ]
        }
      ]
    },
    {
      "cell_type": "code",
      "source": [
        "#Hierarchical\n",
        "class A :\n",
        "    def showA(self):\n",
        "        print(\"Class A\")\n",
        "\n",
        "class B(A) :\n",
        "    def showB(self):\n",
        "        print(\"B child of A\")\n",
        "\n",
        "class C(A):\n",
        "    def showC(self):\n",
        "        print(\"C child of A\")\n",
        "\n",
        "\n",
        "obj3=C()\n",
        "obj3.showA()\n",
        "obj3.showC()"
      ],
      "metadata": {
        "colab": {
          "base_uri": "https://localhost:8080/"
        },
        "id": "Qpk3oM6JRx1N",
        "outputId": "bee6bb2d-1838-4253-cb91-e26a6c163fd8"
      },
      "execution_count": null,
      "outputs": [
        {
          "output_type": "stream",
          "name": "stdout",
          "text": [
            "Class A\n",
            "C child of A\n"
          ]
        }
      ]
    },
    {
      "cell_type": "code",
      "source": [
        "class Employee:\n",
        "  def work(self):\n",
        "    print(\"Employee is working\")\n",
        "\n",
        "  def getSalary(self):\n",
        "    pass\n",
        "\n",
        "class HRManager(Employee):\n",
        "  def __init__(self, salary):\n",
        "      self.salary = salary\n",
        "\n",
        "  def work(self):\n",
        "      print(\"HR Manager is working\")\n",
        "\n",
        "  def addEmployee(self):\n",
        "      print(\"HR Manager is adding an employee\")\n",
        "\n",
        "hr_manager = HRManager(5000)\n",
        "hr_manager.work()\n",
        "hr_manager.addEmployee()"
      ],
      "metadata": {
        "id": "12ylBK08U4XS",
        "colab": {
          "base_uri": "https://localhost:8080/"
        },
        "outputId": "87519f11-56d6-41c0-dd2a-b12370d56deb"
      },
      "execution_count": null,
      "outputs": [
        {
          "output_type": "stream",
          "name": "stdout",
          "text": [
            "HR Manager is working\n",
            "HR Manager is adding an employee\n"
          ]
        }
      ]
    },
    {
      "cell_type": "code",
      "source": [
        "import sys\n",
        "class BankAccount:\n",
        "  def __init__(self, balance):\n",
        "        self.balance = balance\n",
        "\n",
        "  def deposit(self, amount):\n",
        "        self.balance =  self.balance + amount\n",
        "\n",
        "  def withdraw(self, amount):\n",
        "      if amount <= self.balance:\n",
        "            self.balance =  self.balance - amount\n",
        "      else:\n",
        "            print(\"Insufficient balance\")\n",
        "\n",
        "  def getBalance(self):\n",
        "        return self.balance\n",
        "\n",
        "class SavingsAccount(BankAccount):\n",
        "    def withdraw(self, amount):\n",
        "        if self.balance - amount < 100:\n",
        "            print(\"Withdrawal not allowed. Minimum balance should be maintained.\")\n",
        "        else:\n",
        "            super().withdraw(amount)\n",
        "savings_account = SavingsAccount(500)\n",
        "\n",
        "while True:\n",
        "    print(\"\\nMenu\")\n",
        "    print(\"\\n1. Deposit\")\n",
        "    print(\"2. Withdraw\")\n",
        "    print(\"3. Check Balance\")\n",
        "    print(\"4. Exit\")\n",
        "    choice = input(\"Enter your choice: \")\n",
        "\n",
        "    if choice == \"1\":\n",
        "        amount = float(input(\"Enter the deposit amount: \"))\n",
        "        savings_account.deposit(amount)\n",
        "    elif choice == \"2\":\n",
        "        amount = float(input(\"Enter the withdrawal amount: \"))\n",
        "        savings_account.withdraw(amount)\n",
        "    elif choice == \"3\":\n",
        "        print(\"Balance:\", savings_account.getBalance())\n",
        "    elif choice == \"4\":\n",
        "        break\n",
        "    else:\n",
        "        print(\"Invalid choice. Please select 1, 2, 3, or 4.\")\n",
        "\n",
        "print(\"\\nFinal balance:\", savings_account.getBalance())\n",
        "print(\"\\n<<Thank you for visiting>>\")\n"
      ],
      "metadata": {
        "colab": {
          "base_uri": "https://localhost:8080/"
        },
        "id": "ucRYpYh-q6hB",
        "outputId": "9786b300-1e8c-428b-ebd6-a9e87abd0a1f"
      },
      "execution_count": null,
      "outputs": [
        {
          "output_type": "stream",
          "name": "stdout",
          "text": [
            "\n",
            "Menu\n",
            "\n",
            "1. Deposit\n",
            "2. Withdraw\n",
            "3. Check Balance\n",
            "4. Exit\n",
            "Enter your choice: 1\n",
            "Enter the deposit amount: 500\n",
            "\n",
            "Menu\n",
            "\n",
            "1. Deposit\n",
            "2. Withdraw\n",
            "3. Check Balance\n",
            "4. Exit\n",
            "Enter your choice: 2\n",
            "Enter the withdrawal amount: 600\n",
            "\n",
            "Menu\n",
            "\n",
            "1. Deposit\n",
            "2. Withdraw\n",
            "3. Check Balance\n",
            "4. Exit\n",
            "Enter your choice: 3\n",
            "Balance: 400.0\n",
            "\n",
            "Menu\n",
            "\n",
            "1. Deposit\n",
            "2. Withdraw\n",
            "3. Check Balance\n",
            "4. Exit\n",
            "Enter your choice: 4\n",
            "\n",
            "Final balance: 400.0\n",
            "\n",
            "<<Thank you for visiting>>\n"
          ]
        }
      ]
    },
    {
      "cell_type": "code",
      "source": [
        "class Point:\n",
        "  def __init__(self):\n",
        "    self.x = 0\n",
        "    self.y = 0\n",
        "  def Set_Coordinate(self, x, y):\n",
        "      self.x = x\n",
        "      self.y = y\n",
        "\n",
        "class New_Point(Point):\n",
        "  def print(self):\n",
        "    print(f\"Value of X: {self.x}, Value of Y: {self.y}\")\n",
        "\n",
        "x = int(input(\"Enter Value of X: \"))\n",
        "y = int(input(\"ENter Value of Y: \"))\n",
        "new_point = New_Point()\n",
        "new_point.Set_Coordinate(x, y)\n",
        "new_point.print()\n"
      ],
      "metadata": {
        "colab": {
          "base_uri": "https://localhost:8080/"
        },
        "id": "4vxcavIIxyOB",
        "outputId": "cec33479-d5c5-489e-9c09-d6990c0b30e0"
      },
      "execution_count": null,
      "outputs": [
        {
          "output_type": "stream",
          "name": "stdout",
          "text": [
            "Enter Value of X: 4\n",
            "ENter Value of Y: 5\n",
            "Value of X: 4, Value of Y: 5\n"
          ]
        }
      ]
    },
    {
      "cell_type": "code",
      "source": [
        "\n",
        "class Person:\n",
        "  def __init__(self):\n",
        "    self.name = input(\"Enter Your Name: \")\n",
        "    self.age = int(input(\"Enter your Age: \"))\n",
        "\n",
        "class Student(Person):\n",
        "  def __init__(self):\n",
        "    super().__init__()\n",
        "    self.student_id = input(\"Enter a Student ID: \")\n",
        "  def study(self):\n",
        "    print(f\"{self.name} is studying.\")\n",
        "\n",
        "class Teacher(Person):\n",
        "  def __init__(self):\n",
        "    super().__init__()\n",
        "    self.subject = input(\"Enter Subject: \")\n",
        "  def teach(self):\n",
        "    print(f\"{self.name} is teaching subject {self.subject}\")\n",
        "\n",
        "\n",
        "obj = Student()\n",
        "obj.study()\n",
        "obj1 = Teacher()\n",
        "obj1.teach()\n"
      ],
      "metadata": {
        "colab": {
          "base_uri": "https://localhost:8080/"
        },
        "id": "EANt49xxy5wh",
        "outputId": "49bfee27-37df-41bf-bc88-75644aa5a80f"
      },
      "execution_count": null,
      "outputs": [
        {
          "output_type": "stream",
          "name": "stdout",
          "text": [
            "Enter Your Name: Sagar\n",
            "Enter your Age: 19\n",
            "Enter a Student ID: Saga223\n",
            "Sagar is studying.\n",
            "Enter Your Name: Jagtap Sir\n",
            "Enter your Age: 78\n",
            "Enter Subject: M3\n",
            "Jagtap Sir is teaching subject M3\n"
          ]
        }
      ]
    },
    {
      "cell_type": "code",
      "source": [
        "import math\n",
        "\n",
        "class Shape:\n",
        "    def area(self):\n",
        "        pass\n",
        "\n",
        "    def perimeter(self):\n",
        "        pass\n",
        "\n",
        "class Rectangle(Shape):\n",
        "    def __init__(self, length, breadth):\n",
        "        self.length = length\n",
        "        self.breadth = breadth\n",
        "\n",
        "    def perimeter(self):\n",
        "        return 2 * (self.length + self.breadth)\n",
        "\n",
        "    def area(self):\n",
        "        return self.length * self.breadth\n",
        "\n",
        "class Square(Shape):\n",
        "    def __init__(self, side):\n",
        "        self.side = side\n",
        "\n",
        "    def perimeter(self):\n",
        "        return 4 * self.side\n",
        "\n",
        "    def area(self):\n",
        "        return self.side * self.side\n",
        "\n",
        "class Triangle(Shape):\n",
        "    def __init__(self, base, height):\n",
        "        self.base = base\n",
        "        self.height = height\n",
        "\n",
        "    def perimeter(self):\n",
        "        return 3 * self.base\n",
        "\n",
        "    def area(self):\n",
        "        return 0.5 * self.base * self.height\n",
        "\n",
        "class Circle(Shape):\n",
        "    def __init__(self, radius):\n",
        "        self.radius = radius\n",
        "\n",
        "    def perimeter(self):\n",
        "        return 2 * math.pi * self.radius\n",
        "\n",
        "    def area(self):\n",
        "        return math.pi * self.radius * self.radius\n",
        "\n",
        "while True:\n",
        "    print(\"Select a shape:\")\n",
        "    print(\"1. Rectangle\")\n",
        "    print(\"2. Square\")\n",
        "    print(\"3. Triangle\")\n",
        "    print(\"4. Circle\")\n",
        "    print(\"5. Exit\")\n",
        "\n",
        "    choice = input(\"Enter your choice: \")\n",
        "\n",
        "    if choice == '1':\n",
        "        length = float(input(\"Enter length: \"))\n",
        "        breadth = float(input(\"Enter breadth: \"))\n",
        "        shape = Rectangle(length, breadth)\n",
        "    elif choice == '2':\n",
        "        side = float(input(\"Enter side length: \"))\n",
        "        shape = Square(side)\n",
        "    elif choice == '3':\n",
        "        base = float(input(\"Enter base length: \"))\n",
        "        height = float(input(\"Enter height: \"))\n",
        "        shape = Triangle(base, height)\n",
        "    elif choice == '4':\n",
        "        radius = float(input(\"Enter radius: \"))\n",
        "        shape = Circle(radius)\n",
        "    elif choice == '5':\n",
        "        break\n",
        "    else:\n",
        "        print(\"Invalid choice. Please try again.\")\n",
        "        continue\n",
        "\n",
        "    print(\"Area:\", shape.area())\n",
        "    print(\"Perimeter:\", shape.perimeter())\n"
      ],
      "metadata": {
        "colab": {
          "base_uri": "https://localhost:8080/"
        },
        "id": "ZlEAhsIb7DOq",
        "outputId": "1a1a1b70-533e-4f8c-cdb0-00e223c332ef"
      },
      "execution_count": null,
      "outputs": [
        {
          "name": "stdout",
          "output_type": "stream",
          "text": [
            "Select a shape:\n",
            "1. Rectangle\n",
            "2. Square\n",
            "3. Triangle\n",
            "4. Circle\n",
            "5. Exit\n",
            "Enter your choice: 1\n",
            "Enter length: 13\n",
            "Enter breadth: 54\n",
            "Area: 702.0\n",
            "Perimeter: 134.0\n",
            "Select a shape:\n",
            "1. Rectangle\n",
            "2. Square\n",
            "3. Triangle\n",
            "4. Circle\n",
            "5. Exit\n",
            "Enter your choice: 5\n"
          ]
        }
      ]
    },
    {
      "cell_type": "code",
      "source": [
        "class Animal:\n",
        "    def __init__(self, name):\n",
        "        self.name = name\n",
        "\n",
        "    def sound(self):\n",
        "        pass\n",
        "\n",
        "    def move(self):\n",
        "        pass\n",
        "\n",
        "    def fly(self):\n",
        "        pass\n",
        "\n",
        "class Dog(Animal):\n",
        "    def move(self):\n",
        "        print(f\"{self.name} is walking\")\n",
        "\n",
        "    def fly(self):\n",
        "        print(f\"{self.name} can not fly\")\n",
        "\n",
        "    def sound(self):\n",
        "        print(f\"{self.name} is doing Bow Bow\")\n",
        "\n",
        "class Cat(Animal):\n",
        "    def move(self):\n",
        "        print(f\"{self.name} is walking\")\n",
        "\n",
        "    def fly(self):\n",
        "        print(f\"{self.name} can not fly\")\n",
        "\n",
        "    def sound(self):\n",
        "        print(f\"{self.name} is doing Meow Meow\")\n",
        "\n",
        "class Bird(Animal):\n",
        "    def move(self):\n",
        "        print(f\"{self.name} is flying\")\n",
        "\n",
        "    def fly(self):\n",
        "        print(f\"{self.name} can fly\")\n",
        "\n",
        "    def sound(self):\n",
        "        print(f\"{self.name} is doing Chew Chew\")\n",
        "\n",
        "while True:\n",
        "    print(\"\\nSelect an animal:\")\n",
        "    print(\"\\n1. Dog\")\n",
        "    print(\"2. Cat\")\n",
        "    print(\"3. Bird\")\n",
        "    print(\"4. Exit\")\n",
        "\n",
        "    choice = input(\"Enter your choice: \")\n",
        "\n",
        "    if choice == '1':\n",
        "        dog_name = input(\"Enter a Dog Name: \")\n",
        "        dog = Dog(dog_name)\n",
        "        dog.move()\n",
        "        dog.fly()\n",
        "        dog.sound()\n",
        "\n",
        "    elif choice == '2':\n",
        "        cat_name = input(\"Enter a Cat Name: \")\n",
        "        cat = Cat(cat_name)\n",
        "        cat.move()\n",
        "        cat.fly()\n",
        "        cat.sound()\n",
        "\n",
        "    elif choice == '3':\n",
        "        bird_name = input(\"Enter a Bird Name: \")\n",
        "        bird = Bird(bird_name)\n",
        "        bird.move()\n",
        "        bird.fly()\n",
        "        bird.sound()\n",
        "\n",
        "    elif choice == '4':\n",
        "        break\n",
        "\n",
        "    else:\n",
        "        print(\"Invalid choice. Please try again.\")\n",
        "\n",
        "print(\"\\nThank You !!!\")\n"
      ],
      "metadata": {
        "colab": {
          "base_uri": "https://localhost:8080/"
        },
        "id": "1on5e6F32iJB",
        "outputId": "3e73d785-18da-44eb-f258-270f4f03b09e"
      },
      "execution_count": null,
      "outputs": [
        {
          "output_type": "stream",
          "name": "stdout",
          "text": [
            "\n",
            "Select an animal:\n",
            "\n",
            "1. Dog\n",
            "2. Cat\n",
            "3. Bird\n",
            "4. Exit\n",
            "Enter your choice: 3\n",
            "Enter a Bird Name: Chimni\n",
            "Chimni is flying\n",
            "Chimni can fly\n",
            "Chimni is doing Chew Chew\n",
            "\n",
            "Select an animal:\n",
            "\n",
            "1. Dog\n",
            "2. Cat\n",
            "3. Bird\n",
            "4. Exit\n",
            "Enter your choice: 4\n",
            "\n",
            "Thank You !!!\n"
          ]
        }
      ]
    },
    {
      "cell_type": "code",
      "source": [
        "# Method overriding\n",
        "class Parent:\n",
        "  def properties(self):\n",
        "    print(\"Cash,Gold,\")\n",
        "  def bike(self):\n",
        "    print(\"Splender +\")\n",
        "class Child(Parent):\n",
        "  def bike(self):\n",
        "    print(\"HB\")\n",
        "c = Child()\n",
        "c.properties()\n",
        "c.bike()"
      ],
      "metadata": {
        "id": "Dd55WnLIEy6f",
        "colab": {
          "base_uri": "https://localhost:8080/"
        },
        "outputId": "05c5ec42-ec62-4d62-c61f-13684512851b"
      },
      "execution_count": 1,
      "outputs": [
        {
          "output_type": "stream",
          "name": "stdout",
          "text": [
            "Cash,Gold,\n",
            "HB\n"
          ]
        }
      ]
    },
    {
      "cell_type": "code",
      "source": [
        "# Method Overloading\n",
        "class Main:\n",
        "  def show(self,*n):\n",
        "    total= 0\n",
        "    for i in n:\n",
        "      total = total + i\n",
        "      print('Sum - ',total)\n",
        "      print(\"End!\")\n",
        "      print(\"--------------\")\n",
        "\n",
        "m1 = Main()\n",
        "m1.show(1,2,3,5,6)\n",
        "m1.show(1)\n",
        "m1.show(1,2)\n",
        "m1.show(1,2,3)"
      ],
      "metadata": {
        "colab": {
          "base_uri": "https://localhost:8080/"
        },
        "id": "rWsvqxufUtRG",
        "outputId": "ceeb44af-cb71-4b9f-ba2c-a223c080445d"
      },
      "execution_count": 2,
      "outputs": [
        {
          "output_type": "stream",
          "name": "stdout",
          "text": [
            "Sum -  1\n",
            "End!\n",
            "--------------\n",
            "Sum -  3\n",
            "End!\n",
            "--------------\n",
            "Sum -  6\n",
            "End!\n",
            "--------------\n",
            "Sum -  11\n",
            "End!\n",
            "--------------\n",
            "Sum -  17\n",
            "End!\n",
            "--------------\n",
            "Sum -  1\n",
            "End!\n",
            "--------------\n",
            "Sum -  1\n",
            "End!\n",
            "--------------\n",
            "Sum -  3\n",
            "End!\n",
            "--------------\n",
            "Sum -  1\n",
            "End!\n",
            "--------------\n",
            "Sum -  3\n",
            "End!\n",
            "--------------\n",
            "Sum -  6\n",
            "End!\n",
            "--------------\n"
          ]
        }
      ]
    },
    {
      "cell_type": "code",
      "source": [
        "#Encapsulation Example\n",
        "class Student:\n",
        "  def __init__(self,name,roll_no):\n",
        "    self.name = name\n",
        "    self.roll_no = roll_no\n",
        "  def show(self):\n",
        "    print(f\"Student name{self.name} and his {self.roll_no}\")\n",
        "obj = Student(\"Sagar\",12)\n",
        "print(obj.name)\n",
        "print(obj.roll_no)\n",
        "obj.show()"
      ],
      "metadata": {
        "colab": {
          "base_uri": "https://localhost:8080/"
        },
        "id": "zye41H-3cT4I",
        "outputId": "d2b30229-e691-455b-d406-c9efdf51f0bb"
      },
      "execution_count": 16,
      "outputs": [
        {
          "output_type": "stream",
          "name": "stdout",
          "text": [
            "Sagar\n",
            "12\n",
            "Student nameSagar and his 12\n"
          ]
        }
      ]
    },
    {
      "cell_type": "code",
      "source": [
        "from abc import ABC, abstractmethod\n",
        "\n",
        "class RCPIT(ABC):\n",
        "   @abstractmethod\n",
        "   def student_details(self):\n",
        "       pass\n",
        "\n",
        "   @abstractmethod\n",
        "   def student_assignment(self):\n",
        "       pass\n",
        "\n",
        "   @abstractmethod\n",
        "   def student_marks(self):\n",
        "       pass\n",
        "\n",
        "class Comp_A(RCPIT):\n",
        "   def student_details(self):\n",
        "       return \"It will try to return the Student details of Computer A.\"\n",
        "\n",
        "   def student_assignment(self):\n",
        "       return \"It will return the details of student assignment for Computer A.\"\n",
        "\n",
        "   def student_marks(self):\n",
        "       return \"It will return the marks of Computer A.\"\n",
        "\n",
        "class Comp_B(RCPIT):\n",
        "   def student_details(self):\n",
        "       return \"This will return the details of Computer B.\"\n",
        "\n",
        "   def student_assignment(self):\n",
        "       return \"It will return the details of student assignment for Computer B.\"\n",
        "\n",
        "   def student_marks(self):\n",
        "       return \"This will return the marks of Computer B.\"\n",
        "\n",
        "ca = Comp_A()\n",
        "\n",
        "print(ca.student_details())\n",
        "print(ca.student_assignment())\n",
        "print(ca.student_marks())\n"
      ],
      "metadata": {
        "colab": {
          "base_uri": "https://localhost:8080/"
        },
        "id": "yu6pMA3nUthC",
        "outputId": "770a1003-47f1-4b26-d95f-414668b6a5e5"
      },
      "execution_count": 15,
      "outputs": [
        {
          "output_type": "stream",
          "name": "stdout",
          "text": [
            "It will try to return the Student details of Computer A.\n",
            "It will return the details of student assignment for Computer A.\n",
            "It will return the marks of Computer A.\n"
          ]
        }
      ]
    },
    {
      "cell_type": "code",
      "source": [
        "from abc import ABC, abstractmethod\n",
        "\n",
        "class Course(ABC):\n",
        "    def __init__(self, title, duration, price, instructor):\n",
        "        self.title = title\n",
        "        self.duration = duration\n",
        "        self.price = price\n",
        "        self.instructor = instructor\n",
        "\n",
        "    @abstractmethod\n",
        "    def get_details(self):\n",
        "        pass\n",
        "\n",
        "    def enroll(self):\n",
        "        pass\n",
        "\n",
        "class ProgrammingCourse(Course):\n",
        "    def __init__(self, title, duration, price, instructor, programming_language):\n",
        "        super().__init__(title, duration, price, instructor)\n",
        "        self.programming_language = programming_language\n",
        "\n",
        "    def get_details(self):\n",
        "        return f\"Course Title: {self.title}\\nDuration: {self.duration} weeks\\nPrice: ${self.price}\\nInstructor: {self.instructor}\\nProgramming Language: {self.programming_language}\"\n",
        "\n",
        "class MathCourse(Course):\n",
        "    def __init__(self, title, duration, price, instructor, level):\n",
        "        super().__init__(title, duration, price, instructor)\n",
        "        self.level = level\n",
        "\n",
        "    def get_details(self):\n",
        "        return f\"Course Title: {self.title}\\nDuration: {self.duration} weeks\\nPrice: ${self.price}\\nInstructor: {self.instructor}\\nLevel: {self.level}\"\n",
        "\n",
        "class LanguageCourse(Course):\n",
        "    def __init__(self, title, duration, price, instructor, language):\n",
        "        super().__init__(title, duration, price, instructor)\n",
        "        self.language = language\n",
        "\n",
        "    def get_details(self):\n",
        "        return f\"Course Title: {self.title}\\nDuration: {self.duration} weeks\\nPrice: ${self.price}\\nInstructor: {self.instructor}\\nLanguage: {self.language}\"\n",
        "\n",
        "\n",
        "course_type = input(\"Enter the type of course (Programming, Math, or Language): \").strip()\n",
        "\n",
        "title = input(\"Enter the course title: \").strip()\n",
        "duration = int(input(\"Enter the duration (in weeks): \"))\n",
        "price = float(input(\"Enter the price: \"))\n",
        "instructor = input(\"Enter the instructor's name: \").strip()\n",
        "\n",
        "if course_type.lower() == \"programming\":\n",
        "    programming_language = input(\"Enter the programming language: \").strip()\n",
        "    course = ProgrammingCourse(title, duration, price, instructor, programming_language)\n",
        "elif course_type.lower() == \"math\":\n",
        "    level = input(\"Enter the course level: \").strip()\n",
        "    course = MathCourse(title, duration, price, instructor, level)\n",
        "elif course_type.lower() == \"Language\":\n",
        "    language = input(\"Enter the Language: \").strip()\n",
        "    course = LanguageCourse(title, duration, price, instructor, language)\n",
        "else:\n",
        "    print(\"Invalid course type.\")\n",
        "\n",
        "if course:\n",
        "    print(\"\\nCourse details:\")\n",
        "    print(course.get_details())\n"
      ],
      "metadata": {
        "colab": {
          "base_uri": "https://localhost:8080/"
        },
        "id": "65RftEkSbQYL",
        "outputId": "b2e3a9f0-8525-493b-9a29-9591453cfa3b"
      },
      "execution_count": 18,
      "outputs": [
        {
          "output_type": "stream",
          "name": "stdout",
          "text": [
            "Enter the type of course (Programming, Math, or Language): Language\n",
            "Enter the course title: C Language\n",
            "Enter the duration (in weeks): 5\n",
            "Enter the price: 8000\n",
            "Enter the instructor's name: Navin Reddy\n",
            "Invalid course type.\n",
            "\n",
            "Course details:\n",
            "Course Title: M3\n",
            "Duration: 5 weeks\n",
            "Price: $8000.0\n",
            "Instructor: Jagtap Sir\n",
            "Level: Intermediate\n"
          ]
        }
      ]
    },
    {
      "cell_type": "code",
      "source": [
        "\n"
      ],
      "metadata": {
        "id": "E1RiGaKqfhkg"
      },
      "execution_count": null,
      "outputs": []
    }
  ]
}