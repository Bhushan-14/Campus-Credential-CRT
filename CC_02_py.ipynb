{
  "nbformat": 4,
  "nbformat_minor": 0,
  "metadata": {
    "colab": {
      "provenance": [],
      "authorship_tag": "ABX9TyP5TDJ72Yulvz9w42gwQT6P",
      "include_colab_link": true
    },
    "kernelspec": {
      "name": "python3",
      "display_name": "Python 3"
    },
    "language_info": {
      "name": "python"
    }
  },
  "cells": [
    {
      "cell_type": "markdown",
      "metadata": {
        "id": "view-in-github",
        "colab_type": "text"
      },
      "source": [
        "<a href=\"https://colab.research.google.com/github/Bhushan-14/Campus-Credential-CRT/blob/main/CC_02_py.ipynb\" target=\"_parent\"><img src=\"https://colab.research.google.com/assets/colab-badge.svg\" alt=\"Open In Colab\"/></a>"
      ]
    },
    {
      "cell_type": "code",
      "execution_count": null,
      "metadata": {
        "id": "xnyYx8Pmyt3w"
      },
      "outputs": [],
      "source": [
        "#Datatypes\n",
        "#list() -> list is collection of object which allowed duplicacy and preserved insertion order\n",
        "#       -> Indexing an slicing are allowed\n",
        "#       -> represented by []\n",
        "#Set() -> set is collection of object which does not allowed duplicacy and does not preserved insertion order\n",
        "#      -> represented by {}"
      ]
    },
    {
      "cell_type": "code",
      "source": [
        "l = [12,45,78,54,33,22,11,67]\n",
        "print(type(l))\n",
        "print(l)"
      ],
      "metadata": {
        "colab": {
          "base_uri": "https://localhost:8080/"
        },
        "id": "9uYIVORkzujg",
        "outputId": "7a67e9c9-9f4a-464a-bce1-2eeaaf785784"
      },
      "execution_count": null,
      "outputs": [
        {
          "output_type": "stream",
          "name": "stdout",
          "text": [
            "<class 'list'>\n",
            "[12, 45, 78, 54, 33, 22, 11, 67]\n"
          ]
        }
      ]
    },
    {
      "cell_type": "code",
      "source": [
        "s = {70, 50 , 10 , 20 , 30 , 70}\n",
        "print(type(s))\n",
        "print(s)"
      ],
      "metadata": {
        "colab": {
          "base_uri": "https://localhost:8080/"
        },
        "id": "LyyYvDcbzc0d",
        "outputId": "90c92cdd-bc07-460f-a845-a2f29c14726c"
      },
      "execution_count": null,
      "outputs": [
        {
          "output_type": "stream",
          "name": "stdout",
          "text": [
            "<class 'set'>\n",
            "{50, 20, 70, 10, 30}\n"
          ]
        }
      ]
    },
    {
      "cell_type": "code",
      "source": [
        "#dictionary\n",
        "d = { 100: \"Sagar\", 101: \"Mayur\",102: \"Hrishi\"}\n",
        "print(d)"
      ],
      "metadata": {
        "id": "xcvvA7NU_JcO",
        "colab": {
          "base_uri": "https://localhost:8080/"
        },
        "outputId": "34bceffd-b16b-484c-d6fb-d4b5572d7be0"
      },
      "execution_count": null,
      "outputs": [
        {
          "output_type": "stream",
          "name": "stdout",
          "text": [
            "{100: 'Sagar', 101: 'Mayur', 102: 'Hrishi'}\n"
          ]
        }
      ]
    },
    {
      "cell_type": "code",
      "source": [
        "#Reversing a string without using a Built in function\n",
        "print(\"To Reverse a String\")\n",
        "name = input(\"Enter your name: \")\n",
        "name = name[::-1]\n",
        "print(\"String after reversing: \",name)"
      ],
      "metadata": {
        "colab": {
          "base_uri": "https://localhost:8080/"
        },
        "id": "d_2xYb76Gf4c",
        "outputId": "05f33f44-0185-4adb-961d-d88121f9d3c8"
      },
      "execution_count": null,
      "outputs": [
        {
          "output_type": "stream",
          "name": "stdout",
          "text": [
            "To Reverse a String\n",
            "Enter your name: sagar\n",
            "String after reversing:  ragas\n"
          ]
        }
      ]
    },
    {
      "cell_type": "code",
      "source": [
        "#To check string is palindrome or not without using built in function\n",
        "print(\"To check string is palindrome or not\")\n",
        "name = input(\"Enter your name: \")\n",
        "r_name = name[::-1]\n",
        "if name == r_name:\n",
        "  print(\"String is palindrome\")\n",
        "else:\n",
        "  print(\"String is not Pallindrome\")"
      ],
      "metadata": {
        "colab": {
          "base_uri": "https://localhost:8080/"
        },
        "id": "aXZu4sgLHNOq",
        "outputId": "dee5f79b-a178-4d2e-d40e-fce8bcee8416"
      },
      "execution_count": null,
      "outputs": [
        {
          "output_type": "stream",
          "name": "stdout",
          "text": [
            "To check string is palindrome or not\n",
            "Enter your name: RRR\n",
            "String is palindrome\n"
          ]
        }
      ]
    },
    {
      "cell_type": "code",
      "source": [
        "print(\"To Reverse a String\")\n",
        "name = input(\"Enter your name: \")\n",
        "temp = \"\"\n",
        "for i in name:\n",
        "  temp = i + temp\n",
        "print(\"String after reversing: \",temp)"
      ],
      "metadata": {
        "colab": {
          "base_uri": "https://localhost:8080/"
        },
        "id": "mcxaMXr3H2cX",
        "outputId": "58c98230-83b4-4d5d-88a9-4eb9a9072261"
      },
      "execution_count": null,
      "outputs": [
        {
          "output_type": "stream",
          "name": "stdout",
          "text": [
            "To Check String is Palindrome or not\n",
            "Enter your name: Sagar\n",
            "String after reversing:  ragaS\n"
          ]
        }
      ]
    },
    {
      "cell_type": "code",
      "source": [
        "name = input(\"Enter your name: \")\n",
        "temp = \"\"\n",
        "for i in name:\n",
        "  temp = i + temp\n",
        "if name == temp:\n",
        "  print(\"String is palindrome\")\n",
        "else:\n",
        "  print(\"String is not Pallindrome\")"
      ],
      "metadata": {
        "colab": {
          "base_uri": "https://localhost:8080/"
        },
        "id": "NAEk9Q3rI81S",
        "outputId": "f9a170d1-34fe-4eb8-d1da-5fa249f356c3"
      },
      "execution_count": null,
      "outputs": [
        {
          "output_type": "stream",
          "name": "stdout",
          "text": [
            "Enter your name: RRR\n",
            "String is palindrome\n"
          ]
        }
      ]
    },
    {
      "cell_type": "code",
      "source": [
        "#dict\n",
        "d = {'a': 100,'b': 101,'c':103}\n",
        "if 101 in d.values():\n",
        "  print('b is present in as dict')\n",
        "else:\n",
        "  print('b is not present in dict')"
      ],
      "metadata": {
        "id": "1eqgzwHpGxmt",
        "colab": {
          "base_uri": "https://localhost:8080/"
        },
        "outputId": "df81e4ab-e841-4fde-c198-4dfa1c594d51"
      },
      "execution_count": null,
      "outputs": [
        {
          "output_type": "stream",
          "name": "stdout",
          "text": [
            "b is present in as dict\n"
          ]
        }
      ]
    },
    {
      "cell_type": "code",
      "source": [
        "dict1 = {101:\"Sagar\",102:\"Mayur\",103:\"Hrishi\"}\n",
        "dict2 = {103:\"Uday\",103:\"Hrishi\"}\n",
        "dict3 = dict1.copy()\n",
        "dict3.update(dict2)\n",
        "print(dict3)"
      ],
      "metadata": {
        "colab": {
          "base_uri": "https://localhost:8080/"
        },
        "id": "UyETV-ZleqfL",
        "outputId": "28fb9a1c-6281-409b-992e-587a808163fd"
      },
      "execution_count": null,
      "outputs": [
        {
          "output_type": "stream",
          "name": "stdout",
          "text": [
            "{101: 'Sagar', 102: 'Mayur', 103: 'Hrishi'}\n"
          ]
        }
      ]
    },
    {
      "cell_type": "code",
      "source": [
        "#Function :- Reusable block of statements\n",
        "#\n",
        "#If a group of statements is repeatadely required then it is not recommended to write these\n",
        "#statements everytime seperately, we have to define these statements as a single unit\n",
        "#and we can call these unit as a function\n",
        "\n",
        "def my_fun():\n",
        "  a = int(input(\"Enter first number: \"))\n",
        "  b = int(input(\"Enter second number: \"))\n",
        "  print(\"Addition of two number is: \",a+b)\n",
        "\n",
        "my_fun()"
      ],
      "metadata": {
        "colab": {
          "base_uri": "https://localhost:8080/"
        },
        "id": "7kWKwGokfKa_",
        "outputId": "7eaf5ba6-ac63-4570-d4d7-ee5af428fa58"
      },
      "execution_count": null,
      "outputs": [
        {
          "output_type": "stream",
          "name": "stdout",
          "text": [
            "Enter first number: 12\n",
            "Enter second number: 12\n",
            "Addition of two number is:  24\n"
          ]
        }
      ]
    },
    {
      "cell_type": "code",
      "source": [
        "#Calaculate simple interest\n",
        "def si():\n",
        "  p = int(input(\"Enter Principal amount: \"))\n",
        "  n = int(input(\"Enter duration [in year]: \"))\n",
        "  r = int(input(\"Enter Rate of interest: \"))\n",
        "  si = (p*n*r)/100\n",
        "  print(\"The Simple Interest is: \",si)\n",
        "\n",
        "si()"
      ],
      "metadata": {
        "colab": {
          "base_uri": "https://localhost:8080/"
        },
        "id": "a8Aj_UxPjRBv",
        "outputId": "9d774871-2a69-4232-e56f-64eb1b724775"
      },
      "execution_count": null,
      "outputs": [
        {
          "output_type": "stream",
          "name": "stdout",
          "text": [
            "Enter Principal amount: 10000\n",
            "Enter duration [in year]: 2\n",
            "Enter Rate of interest: 5\n",
            "The Simple Interest is:  1000.0\n"
          ]
        }
      ]
    },
    {
      "cell_type": "code",
      "source": [
        "#Claculate a Cub\n",
        "def cube():\n",
        "  n = int(input(\"Enter any number: \"))\n",
        "  cube = n*n*n\n",
        "  print(\"Cube of Entered number is: \",cube)\n",
        "cube()"
      ],
      "metadata": {
        "colab": {
          "base_uri": "https://localhost:8080/"
        },
        "id": "Ol6RZz9kk_XM",
        "outputId": "69b2f884-4c73-4f86-c079-d09453fefeed"
      },
      "execution_count": null,
      "outputs": [
        {
          "output_type": "stream",
          "name": "stdout",
          "text": [
            "Enter any number: 8\n",
            "Cube of Entered number is:  512\n"
          ]
        }
      ]
    },
    {
      "cell_type": "code",
      "source": [
        "#Calculate area and perimeter of rectangle\n",
        "def men():\n",
        "  l = int(input(\"Enter length of rectangle: \"))\n",
        "  b = int(input(\"Enter breadth of triangle: \"))\n",
        "  area = l * b\n",
        "  print(\"Area of rectangle are: \",area)\n",
        "  perimeter = 2*(l+b)\n",
        "  print(\"Perimeter of ractangle: \",perimeter)\n",
        "men()"
      ],
      "metadata": {
        "colab": {
          "base_uri": "https://localhost:8080/"
        },
        "id": "f0eZmU1rlSzC",
        "outputId": "cf95f728-ac13-4c8f-cdec-ce49b1cfea35"
      },
      "execution_count": null,
      "outputs": [
        {
          "output_type": "stream",
          "name": "stdout",
          "text": [
            "Enter length of rectangle: 12\n",
            "Enter breadth of triangle: 4\n",
            "Area of rectangle are:  48\n",
            "Perimeter of ractangle:  32\n"
          ]
        }
      ]
    },
    {
      "cell_type": "code",
      "source": [
        "#Calculate y to power of x\n",
        "def pow():\n",
        "  x = int(input(\"Enter base value: \"))\n",
        "  y = int(input(\"Enter power value: \"))\n",
        "  res = x ** y\n",
        "  print(\"y to the power of x  is: \",res)\n",
        "pow()"
      ],
      "metadata": {
        "colab": {
          "base_uri": "https://localhost:8080/"
        },
        "id": "lD8pgaz2l-jR",
        "outputId": "9cd37862-e8ba-46cf-e896-1ffee38728ce"
      },
      "execution_count": null,
      "outputs": [
        {
          "output_type": "stream",
          "name": "stdout",
          "text": [
            "Enter base value: 12\n",
            "Enter power value: 3\n",
            "y to the power of x  is:  1728\n"
          ]
        }
      ]
    },
    {
      "cell_type": "code",
      "source": [
        "#Sum of series\n",
        "def ss():\n",
        "  t = 0\n",
        "  x = [1/2,1/4,1/6]\n",
        "  for i in x:\n",
        "    t = i+t\n",
        "  print(float(t))\n",
        "ss()"
      ],
      "metadata": {
        "colab": {
          "base_uri": "https://localhost:8080/"
        },
        "id": "ER5D7LQImZNE",
        "outputId": "8ec5f5af-e6b9-4fe6-b3d0-a6a62372c624"
      },
      "execution_count": null,
      "outputs": [
        {
          "output_type": "stream",
          "name": "stdout",
          "text": [
            "0.9166666666666666\n"
          ]
        }
      ]
    },
    {
      "cell_type": "code",
      "source": [
        "def prime_no():\n",
        "  n = int(input(\"Enter any number : \"))\n",
        "  flag = 0\n",
        "\n",
        "  if n == 1:\n",
        "    print(n, \"is not a prime number\")\n",
        "  elif n > 1:\n",
        "    for i in range(2, n):\n",
        "        if (n % i) == 0:\n",
        "            flag = 1\n",
        "            break\n",
        "  if flag:\n",
        "    print(n, \"is not a prime number\")\n",
        "  else:\n",
        "    print(n, \"is a prime number\")\n",
        "prime_no()"
      ],
      "metadata": {
        "colab": {
          "base_uri": "https://localhost:8080/"
        },
        "id": "_WSBrl0WnwfN",
        "outputId": "ef6e3d29-cc81-4d70-86c9-0548fd37ac68"
      },
      "execution_count": null,
      "outputs": [
        {
          "output_type": "stream",
          "name": "stdout",
          "text": [
            "Enter any number : 14\n",
            "14 is not a prime number\n"
          ]
        }
      ]
    },
    {
      "cell_type": "code",
      "source": [
        "#Fibbonacci series\n",
        "def fib():\n",
        "  n = int(input(\"Enter limit of fibbonaci series: \"))\n",
        "  a = 0\n",
        "  b = 1\n",
        "\n",
        "  print(\"0\")\n",
        "  print(\"1\")\n",
        "\n",
        "  sum = 0\n",
        "  print(\"Fibbonaci Series is: \")\n",
        "  while a < n:\n",
        "    temp = a + b\n",
        "    a = b\n",
        "    b = temp\n",
        "    sum = sum + a\n",
        "    print(a)\n",
        "  sum = sum + 1\n",
        "  print(\"Sum of Fibbonaci Series is: \",sum)\n",
        "fib()"
      ],
      "metadata": {
        "colab": {
          "base_uri": "https://localhost:8080/"
        },
        "id": "7Bq797H0ogqJ",
        "outputId": "31d41cb4-a913-4bc4-9ad3-41ff69ac2200"
      },
      "execution_count": null,
      "outputs": [
        {
          "output_type": "stream",
          "name": "stdout",
          "text": [
            "Enter limit of fibbonaci series: 78\n",
            "0\n",
            "1\n",
            "Fibbonaci Series is: \n",
            "1\n",
            "1\n",
            "2\n",
            "3\n",
            "5\n",
            "8\n",
            "13\n",
            "21\n",
            "34\n",
            "55\n",
            "89\n",
            "Sum of Fibbonaci Series is:  233\n"
          ]
        }
      ]
    },
    {
      "cell_type": "code",
      "source": [
        "import sys\n",
        "def add():\n",
        "  n1 = int(input(\"Enter the first number: \"))\n",
        "  n2 = int(input(\"Enter the second number: \"))\n",
        "  print(\"addition: \",n1+n2)\n",
        "def sub():\n",
        "  n1 = int(input(\"Enter the first number: \"))\n",
        "  n2 = int(input(\"Enter the second number: \"))\n",
        "  print(\"Subtraction: \",n1+n2)\n",
        "def mul():\n",
        "  n1 = int(input(\"Enter the first number: \"))\n",
        "  n2 = int(input(\"Enter the second number: \"))\n",
        "  print(\"Multiplication: \",n1*n2)\n",
        "def div():\n",
        "  n1 = int(input(\"Enter the first number: \"))\n",
        "  n2 = int(input(\"Enter the second number: \"))\n",
        "  print(\"Division: \",n1/n2)\n",
        "def fact():\n",
        "  n = int(input(\"Enter any number: \"))\n",
        "  fact = 1\n",
        "  for i in range(1,n+1):\n",
        "    fact = fact * i\n",
        "  print (\"The factorial of 23 is : \",end=\"\")\n",
        "  print (fact)\n",
        "def pow():\n",
        "  x = int(input(\"Enter base value: \"))\n",
        "  y = int(input(\"Enter power value: \"))\n",
        "  res = x ** y\n",
        "  print(\"y to the power of x  is: \",res)\n",
        "def rev():\n",
        "  n = int(input(\"Enter a number: \"))\n",
        "  n1 = n % 10\n",
        "\n",
        "  n = n // 10\n",
        "  n2 = n % 10\n",
        "\n",
        "  n = n // 10\n",
        "  n3 = n % 10\n",
        "\n",
        "  n = n // 10\n",
        "  n4 = n % 10\n",
        "\n",
        "  print(\"Addition of four digits number is: \",int(n1+n2+n3+n4))\n",
        "def arm():\n",
        "  n = int(input(\"Enter any number: \"))\n",
        "  rev = 0\n",
        "  arm = n\n",
        "  while n != 0:\n",
        "    rem = n % 10\n",
        "    rev = rev + (rem*rem*rem)\n",
        "    n = n // 10\n",
        "\n",
        "  if arm == rev:\n",
        "    print(\"Entered number is Armstrong Number\")\n",
        "  else:\n",
        "    print(\"Entered number is not Armstrong Number\")\n",
        "\n",
        "print(\"Enter 1 for Addition\")\n",
        "print(\"Enter 2 for Subtraction\")\n",
        "print(\"Enter 3 for Multiplication\")\n",
        "print(\"Enter 4 for Division\")\n",
        "print(\"Enter 5 for Factorial of number\")\n",
        "print(\"Enter 6 for power of number\")\n",
        "print(\"Enter 7 for Reverse the number\")\n",
        "print(\"Enter 8 for Armstrong number\")\n",
        "print(\"Enter 9 for exit\")\n",
        "\n",
        "ch = int(input(\"Enter your choice: \"))\n",
        "\n",
        "if ch == 1:\n",
        "  add()\n",
        "elif ch == 2:\n",
        "  sub()\n",
        "elif ch == 3:\n",
        "  mul()\n",
        "elif ch == 4:\n",
        "  div()\n",
        "elif ch == 5:\n",
        "  fact()\n",
        "elif ch == 6:\n",
        "  pow()\n",
        "elif ch == 7:\n",
        "  rev()\n",
        "elif ch == 8:\n",
        "  arm()\n",
        "elif ch == 9:\n",
        "  sys.exit()\n",
        "else:\n",
        "  print(\"Enter right choice, Thank you!\")"
      ],
      "metadata": {
        "colab": {
          "base_uri": "https://localhost:8080/"
        },
        "id": "D6_c7QDlo3Uv",
        "outputId": "400901ed-68ae-48c6-8436-0480e6b14d1a"
      },
      "execution_count": null,
      "outputs": [
        {
          "output_type": "stream",
          "name": "stdout",
          "text": [
            "Enter 1 for Addition\n",
            "Enter 2 for Subtraction\n",
            "Enter 3 for Multiplication\n",
            "Enter 4 for Division\n",
            "Enter 5 for Factorial of number\n",
            "Enter 6 for power of number\n",
            "Enter 7 for Reverse the number\n",
            "Enter 8 for Armstrong number\n",
            "Enter 9 for exit\n",
            "Enter your choice: 7\n",
            "Enter a number: 345\n",
            "Addition of four digits number is:  12\n"
          ]
        }
      ]
    },
    {
      "cell_type": "code",
      "source": [
        "#program to calculate the sum of a list with recursion\n",
        "\n",
        "def list_sum(list):\n",
        "  if len(list) == 1:\n",
        "    return list[0]\n",
        "  else:\n",
        "    return list[0] + list_sum(list[1:])\n",
        "list = [12,34,56,78,99,0,44]\n",
        "print(\"List Sum is: \",list_sum(list))\n",
        "\n"
      ],
      "metadata": {
        "colab": {
          "base_uri": "https://localhost:8080/"
        },
        "id": "AD4vU7Ri9uug",
        "outputId": "adbc0f10-77c7-4b16-a025-69d4dca36641"
      },
      "execution_count": null,
      "outputs": [
        {
          "output_type": "stream",
          "name": "stdout",
          "text": [
            "List Sum is:  323\n"
          ]
        }
      ]
    },
    {
      "cell_type": "code",
      "source": [
        "#lambda function\n",
        "\n",
        "s = lambda a,b:a+b\n",
        "a = int(input(\"Enter first number: \"))\n",
        "b = int(input(\"Enter second number: \"))\n",
        "print(\"Addition: \",s(a,b))"
      ],
      "metadata": {
        "colab": {
          "base_uri": "https://localhost:8080/"
        },
        "id": "8qNY5FSgEAUi",
        "outputId": "e2a44c65-ce0b-4d3e-a6a1-d931f564fa01"
      },
      "execution_count": null,
      "outputs": [
        {
          "output_type": "stream",
          "name": "stdout",
          "text": [
            "Enter first number: 54\n",
            "Enter second number: 7\n",
            "Addition:  61\n"
          ]
        }
      ]
    },
    {
      "cell_type": "code",
      "source": [
        "m_no = input(\"Enter mobile number = \")\n",
        "count = len(m_no)\n",
        "if m_no.isdigit():\n",
        "  if count == 10:\n",
        "    print(\"Valid mobilde number\")\n",
        "  else:\n",
        "    print(\"Enter valid mobile number\")\n",
        "else:\n",
        "  print(\"Enter a data in numeric form\")"
      ],
      "metadata": {
        "colab": {
          "base_uri": "https://localhost:8080/"
        },
        "id": "5YErlzrtMs3X",
        "outputId": "c1b6c613-a522-4824-f10a-2056a9626115"
      },
      "execution_count": 74,
      "outputs": [
        {
          "output_type": "stream",
          "name": "stdout",
          "text": [
            "Enter mobile number = 34w34t5y\n",
            "Enter a data in numeric form\n"
          ]
        }
      ]
    },
    {
      "cell_type": "code",
      "source": [],
      "metadata": {
        "id": "3vgm5w8yOLRq"
      },
      "execution_count": null,
      "outputs": []
    }
  ]
}