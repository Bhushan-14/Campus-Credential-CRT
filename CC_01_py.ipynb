{
  "nbformat": 4,
  "nbformat_minor": 0,
  "metadata": {
    "colab": {
      "provenance": [],
      "authorship_tag": "ABX9TyO5kMZYVnwY+t30H4vEh1aV",
      "include_colab_link": true
    },
    "kernelspec": {
      "name": "python3",
      "display_name": "Python 3"
    },
    "language_info": {
      "name": "python"
    }
  },
  "cells": [
    {
      "cell_type": "markdown",
      "metadata": {
        "id": "view-in-github",
        "colab_type": "text"
      },
      "source": [
        "<a href=\"https://colab.research.google.com/github/Bhushan-14/Campus-Credential-CRT/blob/main/CC_01_py.ipynb\" target=\"_parent\"><img src=\"https://colab.research.google.com/assets/colab-badge.svg\" alt=\"Open In Colab\"/></a>"
      ]
    },
    {
      "cell_type": "code",
      "execution_count": null,
      "metadata": {
        "colab": {
          "base_uri": "https://localhost:8080/"
        },
        "id": "dpc2XKx_q5oX",
        "outputId": "6fdae32a-0a38-41dc-9545-80a1dc27c8ce"
      },
      "outputs": [
        {
          "output_type": "stream",
          "name": "stdout",
          "text": [
            "Enter a number: 1554\n",
            "Last digit of number is :  4\n"
          ]
        }
      ],
      "source": [
        "#Find Last digit of number\n",
        "n = int(input(\"Enter a number: \"))\n",
        "print(\"Last digit of number is : \",n%10)"
      ]
    },
    {
      "cell_type": "code",
      "source": [
        "#Addition of two digits of a number\n",
        "#(12 = 1+2 = 3)\n",
        "print(\"For addition of two digits of number\")\n",
        "\n",
        "n = int(input(\"Enter a number: \"))\n",
        "n1 = n % 10\n",
        "n2 = n / 10\n",
        "\n",
        "print(\"Addition of two digits number is: \",int(n1+n2))"
      ],
      "metadata": {
        "colab": {
          "base_uri": "https://localhost:8080/"
        },
        "id": "JayFo05Dro-K",
        "outputId": "5f957b7e-11f5-4fff-dd54-b535fdef8e49"
      },
      "execution_count": null,
      "outputs": [
        {
          "output_type": "stream",
          "name": "stdout",
          "text": [
            "Enter a first number: 12\n",
            "For addition of digits of number\n",
            "Addition of two digits number is:  3\n"
          ]
        }
      ]
    },
    {
      "cell_type": "code",
      "source": [
        "#Addition of three digits of a number\n",
        "#(123 = 1+2+3 = 6)\n",
        "print(\"For addition of three digits of number\")\n",
        "n = int(input(\"Enter a number: \"))\n",
        "n1 = n % 10\n",
        "\n",
        "n = n // 10\n",
        "n2 = n % 10\n",
        "\n",
        "n = n // 10\n",
        "n3 = n % 10\n",
        "\n",
        "print(\"Addition of three digits number is: \",int(n1+n2+n3))"
      ],
      "metadata": {
        "colab": {
          "base_uri": "https://localhost:8080/"
        },
        "id": "WFu5lPFFuR_j",
        "outputId": "205a69d1-21da-4993-b4b6-9802db15b864"
      },
      "execution_count": null,
      "outputs": [
        {
          "output_type": "stream",
          "name": "stdout",
          "text": [
            "Enter a number: 432\n",
            "For addition of digits of number\n",
            "Addition of two digits number is:  9\n"
          ]
        }
      ]
    },
    {
      "cell_type": "code",
      "source": [
        "#Addition of four digits numbers\n",
        "#(1234 = 1+2+3+4 = 10)\n",
        "print(\"For addition of four digits of number\")\n",
        "n = int(input(\"Enter a number: \"))\n",
        "n1 = n % 10\n",
        "\n",
        "n = n // 10\n",
        "n2 = n % 10\n",
        "\n",
        "n = n // 10\n",
        "n3 = n % 10\n",
        "\n",
        "n = n // 10\n",
        "n4 = n % 10\n",
        "\n",
        "print(\"Addition of four digits number is: \",int(n1+n2+n3+n4))"
      ],
      "metadata": {
        "colab": {
          "base_uri": "https://localhost:8080/"
        },
        "id": "wvMxdgr6sl-B",
        "outputId": "8b98d138-f57c-4a23-f530-633f9eacaf5b"
      },
      "execution_count": null,
      "outputs": [
        {
          "output_type": "stream",
          "name": "stdout",
          "text": [
            "Enter a number: 1234\n",
            "For addition of four digits of number\n",
            "Addition of four digits number is:  10\n"
          ]
        }
      ]
    },
    {
      "cell_type": "code",
      "source": [
        "#Reverse of a 4 digit number\n",
        "#(1234 = 4321)\n",
        "print(\"For Reverse of four digit number\")\n",
        "n = int(input(\"Enter a number: \"))\n",
        "n1 = n % 10\n",
        "\n",
        "n = n // 10\n",
        "n2 = n % 10\n",
        "\n",
        "n = n // 10\n",
        "n3 = n % 10\n",
        "\n",
        "n = n // 10\n",
        "n4 = n % 10\n",
        "\n",
        "rev = n1*1000+n2*100+n3*10+n4*1\n",
        "print(\"Reverse of four digit number: \",rev)"
      ],
      "metadata": {
        "colab": {
          "base_uri": "https://localhost:8080/"
        },
        "id": "veCdylZvsyxn",
        "outputId": "31ac5d83-050a-4c2d-ee21-a8b862232c14"
      },
      "execution_count": null,
      "outputs": [
        {
          "output_type": "stream",
          "name": "stdout",
          "text": [
            "Enter a number: 1234\n",
            "4321\n"
          ]
        }
      ]
    },
    {
      "cell_type": "code",
      "source": [
        "#Swapping of two numbers with using third variable\n",
        "x = int(input(\"Enter a first number: \"))\n",
        "y = int(input(\"Enter a second number: \"))\n",
        "temp = x\n",
        "x = y\n",
        "y = temp\n",
        "print(\"After swapping value of x is : \",x)\n",
        "print(\"After swapping value of y is : \",y)"
      ],
      "metadata": {
        "colab": {
          "base_uri": "https://localhost:8080/"
        },
        "id": "8V9loOjMy3vW",
        "outputId": "50caff59-7425-41ca-d3f3-e63cdaa40712"
      },
      "execution_count": null,
      "outputs": [
        {
          "output_type": "stream",
          "name": "stdout",
          "text": [
            "Enter a first number: 12\n",
            "Enter a second number: 14\n",
            "After swapping value of x is :  14\n",
            "After swapping value of y is :  12\n"
          ]
        }
      ]
    },
    {
      "cell_type": "code",
      "source": [
        "#Swapping of digits of number using third variable\n",
        "print(\"For Swapping using third variable\")\n",
        "n = int(input(\"Enter a number: \"))\n",
        "\n",
        "n1 = n % 10\n",
        "\n",
        "n = n // 10\n",
        "n2 = n % 10\n",
        "\n",
        "temp = n1\n",
        "n1 = n2\n",
        "n2 = temp\n",
        "\n",
        "print(\"After swapping value of x is : \",n2)\n",
        "print(\"After swapping value of y is : \",n1)"
      ],
      "metadata": {
        "colab": {
          "base_uri": "https://localhost:8080/"
        },
        "id": "OzqHjt44s43X",
        "outputId": "6e1500b2-b20a-48f1-943a-86164b687151"
      },
      "execution_count": null,
      "outputs": [
        {
          "output_type": "stream",
          "name": "stdout",
          "text": [
            "For Swapping using third variable\n",
            "Enter a number: 14\n",
            "After swapping value of x is :  4\n",
            "After swapping value of y is :  1\n"
          ]
        }
      ]
    },
    {
      "cell_type": "code",
      "source": [
        "#Swapping without using third variable\n",
        "x = int(input(\"Enter a first number: \"))\n",
        "y = int(input(\"Enter a second number: \"))\n",
        "\n",
        "x,y = y,x\n",
        "print(\"After swapping value of x is : \",x)\n",
        "print(\"After swapping value of y is : \",y)"
      ],
      "metadata": {
        "colab": {
          "base_uri": "https://localhost:8080/"
        },
        "id": "A76-ZdRp0TQw",
        "outputId": "a3627d3c-4247-4026-db1f-10eab02aff57"
      },
      "execution_count": null,
      "outputs": [
        {
          "output_type": "stream",
          "name": "stdout",
          "text": [
            "Enter a first number: 12\n",
            "Enter a second number: 14\n",
            "After swapping value of x is :  14\n",
            "After swapping value of y is :  12\n"
          ]
        }
      ]
    },
    {
      "cell_type": "code",
      "source": [
        "#Check voting eligibility\n",
        "print(\"To check eligibility of voting\")\n",
        "age = int(input(\"Enter your age: \"))\n",
        "if age >= 18:\n",
        "  print(\"You are eligible for voting\")\n",
        "else:\n",
        "  r_age = 18 - age\n",
        "  print(\"You are not eligible for voting\")\n",
        "  print(\"You are eligible after\",r_age,\"years\")"
      ],
      "metadata": {
        "colab": {
          "base_uri": "https://localhost:8080/"
        },
        "id": "dXX7XX3U0P34",
        "outputId": "4b39eb65-1de6-4f5e-dbff-12bdf6b86e78"
      },
      "execution_count": null,
      "outputs": [
        {
          "output_type": "stream",
          "name": "stdout",
          "text": [
            "To check eligibility of voting\n",
            "Enter your age: 19\n",
            "You are eligible for voting\n"
          ]
        }
      ]
    },
    {
      "cell_type": "code",
      "source": [
        "#Enter Three angles and check if it is form a traingle or not\n",
        "print(\"To Check Given angles are of a triangle or not\")\n",
        "a1 = int(input(\"Enter a first angle: \"))\n",
        "a2 = int(input(\"Enter a second angle: \"))\n",
        "a3 = int(input(\"Enter a three angle : \"))\n",
        "if a1+a2+a3 == 180 and a1 != 0 and a2 != 0 and a3 != 0:\n",
        "  print(\"Given angles are of a triangle\")\n",
        "else:\n",
        "  print(\"Given angle are not of a triangle\")"
      ],
      "metadata": {
        "colab": {
          "base_uri": "https://localhost:8080/"
        },
        "id": "R3Zgmd-J2Tjo",
        "outputId": "7b3125a5-c480-41d2-ced1-94f61586ebb4"
      },
      "execution_count": null,
      "outputs": [
        {
          "output_type": "stream",
          "name": "stdout",
          "text": [
            "To Check Given angles are of a triangle or not\n",
            "Enter a first angle: 120\n",
            "Enter a second angle: 0\n",
            "Enter a three angle : 60\n",
            "Given angle are not of a triangle\n"
          ]
        }
      ]
    },
    {
      "cell_type": "code",
      "source": [
        "#Check if number is even or odd\n",
        "print(\"To Check Given Number is Even or Odd\")\n",
        "x = int(input(\"Enter a first number: \"))\n",
        "if x % 2 ==0:\n",
        "  print(\"Given number is even\")\n",
        "else:\n",
        "    print(\"Given number is odd\")"
      ],
      "metadata": {
        "colab": {
          "base_uri": "https://localhost:8080/"
        },
        "id": "db9FwAI84bje",
        "outputId": "511961c5-92d7-4530-b95c-0c8d53edf060"
      },
      "execution_count": null,
      "outputs": [
        {
          "output_type": "stream",
          "name": "stdout",
          "text": [
            "To Check Given Number is Even or Odd\n",
            "Enter a first number: 12\n",
            "Given number is even\n"
          ]
        }
      ]
    },
    {
      "cell_type": "code",
      "source": [
        "#Find Total Marks and Percentage\n",
        "print(\"To find Total marks and Percentage: \")\n",
        "s1 = int(input(\"Enter a Marks of Subject1: \"))\n",
        "s2 = int(input(\"Enter a Marks of Subject2: \"))\n",
        "s3 = int(input(\"Enter a Marks of Subject3: \"))\n",
        "s4 = int(input(\"Enter a Marks of Subject4: \"))\n",
        "\n",
        "total_marks = s1+s2+s3+s3\n",
        "percentage = float((total_marks)/4)\n",
        "print(\"Total marks = \",total_marks,\"Percentage = \",percentage,\"%\")"
      ],
      "metadata": {
        "colab": {
          "base_uri": "https://localhost:8080/"
        },
        "id": "4Rvsm7yc43j5",
        "outputId": "2f1ba696-fedd-4ba5-9248-5bbef7c64b3a"
      },
      "execution_count": null,
      "outputs": [
        {
          "output_type": "stream",
          "name": "stdout",
          "text": [
            "To find Total marks and Percentage: \n",
            "Enter a Marks of Subject1: 89\n",
            "Enter a Marks of Subject2: 98\n",
            "Enter a Marks of Subject3: 77\n",
            "Enter a Marks of Subject4: 78\n",
            "Total marks =  341 Percentage =  85.25 %\n"
          ]
        }
      ]
    },
    {
      "cell_type": "code",
      "source": [
        "#To check Given Year is Leap or not\n",
        "print(\"To check Given Year is Leap or not\")\n",
        "year = int(input(\"Enter a year: \"))\n",
        "if year % 400 == 0:\n",
        "  print(\"Entered Year is Leap Year\")\n",
        "elif year % 4 == 0 and year % 100 == 0:\n",
        "  print(\"Entered Year is not Leap Year\")"
      ],
      "metadata": {
        "colab": {
          "base_uri": "https://localhost:8080/"
        },
        "id": "7a9ZjKAy6HxN",
        "outputId": "f66c78e3-a88b-42d2-f475-f402a257725c"
      },
      "execution_count": null,
      "outputs": [
        {
          "output_type": "stream",
          "name": "stdout",
          "text": [
            "To check Given Year is Leap or not\n",
            "Enter a year: 1500\n",
            "Entered Year is not Leap Year\n"
          ]
        }
      ]
    },
    {
      "cell_type": "code",
      "source": [
        "#To Check Number is Positive or Neagative\n",
        "n = int(input(\"Enter any number: \"))\n",
        "\n",
        "if n == 0:\n",
        "  print(\"Entered number is neither positive nor negative\")\n",
        "elif n > 0:\n",
        "  print(\"Entered number is positive\")\n",
        "elif n < 0:\n",
        "  print(\"Entered number is negative\")"
      ],
      "metadata": {
        "colab": {
          "base_uri": "https://localhost:8080/"
        },
        "id": "89Mq0LCv7Mko",
        "outputId": "084a46a4-3a76-4fbe-9509-ad4bef445943"
      },
      "execution_count": null,
      "outputs": [
        {
          "output_type": "stream",
          "name": "stdout",
          "text": [
            "Enter any number: 45\n",
            "Entered number is positive\n"
          ]
        }
      ]
    },
    {
      "cell_type": "code",
      "source": [
        "#To Check Admmisiopn is Succesful or not using two conditions\n",
        "s1 = int(input(\"Enter a Marks of Subject1: \"))\n",
        "s2 = int(input(\"Enter a Marks of Subject2: \"))\n",
        "s3 = int(input(\"Enter a Marks of Subject3: \"))\n",
        "s4 = int(input(\"Enter a Marks of Subject4: \"))\n",
        "\n",
        "total_marks = s1+s2+s3+s3\n",
        "percentage = float((total_marks)/4)\n",
        "print(\"Total marks = \",total_marks,\"Percentage = \",percentage,\"%\")\n",
        "\n",
        "gender = input(\"Enter your gender male or female [Male||Female]: \")\n",
        "\n",
        "if (gender == \"Male\" and percentage > 60) or (gender == \"Female\" and percentage > 55):\n",
        "  print(\"Your admission is successful\")\n",
        "else:\n",
        "  print(\"Your admission is not successful \")\n"
      ],
      "metadata": {
        "colab": {
          "base_uri": "https://localhost:8080/"
        },
        "id": "C98YT2Mj7ScD",
        "outputId": "d62f8fb1-a7d0-4bcc-8fd6-961cb9e5ecc4"
      },
      "execution_count": null,
      "outputs": [
        {
          "output_type": "stream",
          "name": "stdout",
          "text": [
            "Enter a Marks of Subject1: 78\n",
            "Enter a Marks of Subject2: 77\n",
            "Enter a Marks of Subject3: 67\n",
            "Enter a Marks of Subject4: 88\n",
            "Total marks =  289 Percentage =  72.25 %\n",
            "Enter your gender male or female [Male||Female]: Male\n",
            "Your admission is successful\n"
          ]
        }
      ]
    },
    {
      "cell_type": "code",
      "source": [
        "#To Print Grade of Student using percentage\n",
        "s1 = int(input(\"Enter a Marks of Subject1: \"))\n",
        "s2 = int(input(\"Enter a Marks of Subject2: \"))\n",
        "s3 = int(input(\"Enter a Marks of Subject3: \"))\n",
        "s4 = int(input(\"Enter a Marks of Subject4: \"))\n",
        "\n",
        "total_marks = s1+s2+s3+s3\n",
        "percentage = float((total_marks)/4)\n",
        "if percentage >= 90 and percentage<=100:\n",
        "  print(\"Total marks = \",total_marks,\"Percentage = \",percentage,\"%\")\n",
        "  print(\"A grade\")\n",
        "elif percentage >= 80 and percentage < 90:\n",
        "   print(\"Total marks = \",total_marks,\"Percentage = \",percentage,\"%\")\n",
        "   print(\"B grade\")\n",
        "elif percentage >= 70 and percentage < 80:\n",
        "   print(\"Total marks = \",total_marks,\"Percentage = \",percentage,\"%\")\n",
        "   print(\"C grade\")\n",
        "elif percentage >= 60 and percentage < 70:\n",
        "   print(\"Total marks = \",total_marks,\"Percentage = \",percentage,\"%\")\n",
        "   print(\"D grade\")\n",
        "else :\n",
        "   print(\"Fail\")"
      ],
      "metadata": {
        "colab": {
          "base_uri": "https://localhost:8080/"
        },
        "id": "aeHVV2Ua-qhq",
        "outputId": "a670166e-d574-4615-903a-821ec520045c"
      },
      "execution_count": null,
      "outputs": [
        {
          "output_type": "stream",
          "name": "stdout",
          "text": [
            "Enter a Marks of Subject1: 78\n",
            "Enter a Marks of Subject2: 99\n",
            "Enter a Marks of Subject3: 88\n",
            "Enter a Marks of Subject4: 8\n",
            "Fail\n"
          ]
        }
      ]
    },
    {
      "cell_type": "code",
      "source": [
        "#print 10 to 1\n",
        "for i in range(10,0,-1):\n",
        "  print(i)"
      ],
      "metadata": {
        "colab": {
          "base_uri": "https://localhost:8080/"
        },
        "id": "_k4SXrvuPJ6l",
        "outputId": "f2b4fa6c-1d1e-4bbb-9a23-e290e63ce5fd"
      },
      "execution_count": null,
      "outputs": [
        {
          "output_type": "stream",
          "name": "stdout",
          "text": [
            "10\n",
            "9\n",
            "8\n",
            "7\n",
            "6\n",
            "5\n",
            "4\n",
            "3\n",
            "2\n",
            "1\n"
          ]
        }
      ]
    },
    {
      "cell_type": "code",
      "source": [
        "#Sum of first n even numbers\n",
        "print(\"To print Addition pf First n even numbers\")\n",
        "n = int(input(\"Enter a limit of even number series: \"))\n",
        "sum = 0\n",
        "print(\"Even Numbers are: \")\n",
        "for i in range(2,n,2):\n",
        "  sum = sum+i\n",
        "  print(i)\n",
        "print(\"Sum of first n even number is: \",sum)"
      ],
      "metadata": {
        "colab": {
          "base_uri": "https://localhost:8080/"
        },
        "id": "HhZwH4rMR7_g",
        "outputId": "a35a1b9f-8eca-4a17-fe52-84ea6171e876"
      },
      "execution_count": null,
      "outputs": [
        {
          "output_type": "stream",
          "name": "stdout",
          "text": [
            "To print Addition pf First n even numbers\n",
            "Enter a limit of even number series: 12\n",
            "Even Numbers are: \n",
            "2\n",
            "4\n",
            "6\n",
            "8\n",
            "10\n",
            "Sum of first n even number is:  30\n"
          ]
        }
      ]
    },
    {
      "cell_type": "code",
      "source": [
        "#Factorial of a number\n",
        "import math\n",
        "n = int(input(\"Enter any number: \"))\n",
        "print(math.factorial(n))"
      ],
      "metadata": {
        "colab": {
          "base_uri": "https://localhost:8080/"
        },
        "id": "oTneLpDoWdgA",
        "outputId": "246d96d4-64b5-488d-e672-41b795434e37"
      },
      "execution_count": null,
      "outputs": [
        {
          "output_type": "stream",
          "name": "stdout",
          "text": [
            "Enter any number: 6\n",
            "720\n"
          ]
        }
      ]
    },
    {
      "cell_type": "code",
      "source": [
        "#Factorial of a number\n",
        "n = int(input(\"Enter any number: \"))\n",
        "fact = 1\n",
        "for i in range(1,n+1):\n",
        "  fact = fact * i\n",
        "print (\"The factorial of 23 is : \",end=\"\")\n",
        "print (fact)"
      ],
      "metadata": {
        "colab": {
          "base_uri": "https://localhost:8080/"
        },
        "id": "E5bd2uKkW85D",
        "outputId": "f8e17b78-ebae-4134-c328-6eca263d094a"
      },
      "execution_count": null,
      "outputs": [
        {
          "output_type": "stream",
          "name": "stdout",
          "text": [
            "Enter any number: 6\n",
            "The factorial of 23 is : 720\n"
          ]
        }
      ]
    },
    {
      "cell_type": "code",
      "source": [
        "#Reverse of number\n",
        "print(\"To Reverse the numbver\")\n",
        "n = int(input(\"Enter any number: \"))\n",
        "rev = 0\n",
        "while n > 0:\n",
        "  rem = n % 10\n",
        "  rev = rev * 10 + rem\n",
        "  n = n // 10\n",
        "print(\"Reverse of number is\",rev)\n"
      ],
      "metadata": {
        "colab": {
          "base_uri": "https://localhost:8080/"
        },
        "id": "r5KbGewmQeDE",
        "outputId": "4eae850d-2f22-44c5-efad-4e1a63405952"
      },
      "execution_count": null,
      "outputs": [
        {
          "output_type": "stream",
          "name": "stdout",
          "text": [
            "To Reverse the numbver\n",
            "Enter any number: 2626\n",
            "Reverse of number is 6262\n"
          ]
        }
      ]
    },
    {
      "cell_type": "code",
      "source": [
        "#Accept 9 digit number and print addition of first and last digit\n",
        "n = int(input(\"Enter any 9 digit number = \"))\n",
        "n = str(n)\n",
        "if(len(n) == 9):\n",
        "  n = int(n)\n",
        "  n1 = n % 10\n",
        "  n2 = n //100000000\n",
        "  print(n1+n2)\n",
        "else:\n",
        "  print(\"enterd number is not 9 digit\")\n"
      ],
      "metadata": {
        "id": "3kKfjWR7B4Gp",
        "colab": {
          "base_uri": "https://localhost:8080/"
        },
        "outputId": "91070f6b-b8b1-482a-9221-3bd8d26c89c0"
      },
      "execution_count": null,
      "outputs": [
        {
          "output_type": "stream",
          "name": "stdout",
          "text": [
            "Enter any 9 digit number = 987654321\n",
            "10\n"
          ]
        }
      ]
    },
    {
      "cell_type": "code",
      "source": [
        "#Armstrong Number\n",
        "print(\"To Check number is Armstrong or not\")\n",
        "n = int(input(\"Enter any number: \"))\n",
        "rev = 0\n",
        "arm = n\n",
        "while n != 0:\n",
        "  rem = n % 10\n",
        "  rev = rev + (rem*rem*rem)\n",
        "  n = n // 10\n",
        "\n",
        "if arm == rev:\n",
        "  print(\"Entered number is Armstrong Number\")\n",
        "else:\n",
        "  print(\"Entered number is not Armstrong Number\")"
      ],
      "metadata": {
        "id": "JdslEFdYbhoQ",
        "colab": {
          "base_uri": "https://localhost:8080/"
        },
        "outputId": "a4910fc8-67c0-432b-87cb-a03e0b6da0ef"
      },
      "execution_count": null,
      "outputs": [
        {
          "output_type": "stream",
          "name": "stdout",
          "text": [
            "To Check number is Armstrong or not\n",
            "Enter any number: 407\n",
            "Entered number is Armstrong Number\n"
          ]
        }
      ]
    },
    {
      "cell_type": "code",
      "source": [
        "#Calculate sum of Fibbonaci series\n",
        "print(\"For Sum of Fibbonaci series\")\n",
        "n = int(input(\"Enter limit of fibbonaci series: \"))\n",
        "a = 0\n",
        "b = 1\n",
        "\n",
        "print(\"0\")\n",
        "print(\"1\")\n",
        "\n",
        "sum = 0\n",
        "print(\"Fibbonaci Series is: \")\n",
        "while a < n:\n",
        "  temp = a + b\n",
        "  a = b\n",
        "  b = temp\n",
        "  sum = sum + a\n",
        "  print(a)\n",
        "sum = sum + 1\n",
        "print(\"Sum of Fibbonaci Series is: \",sum)"
      ],
      "metadata": {
        "colab": {
          "base_uri": "https://localhost:8080/"
        },
        "id": "XjQ-w75-eGQ9",
        "outputId": "a5a31f83-ecde-4913-b1e4-e84ace89c8ec"
      },
      "execution_count": null,
      "outputs": [
        {
          "output_type": "stream",
          "name": "stdout",
          "text": [
            "For Sum of Fibbonaci series\n",
            "Enter limit of fibbonaci series: 10\n",
            "0\n",
            "1\n",
            "Fibbonaci Series is: \n",
            "1\n",
            "1\n",
            "2\n",
            "3\n",
            "5\n",
            "8\n",
            "13\n",
            "Sum of Fibbonaci Series is:  34\n"
          ]
        }
      ]
    },
    {
      "cell_type": "code",
      "source": [
        "#To Check prime Number\n",
        "print(\"For Prime number\")\n",
        "n = int(input(\"Enter any number : \"))\n",
        "flag = 0\n",
        "\n",
        "if n == 1:\n",
        "    print(n, \"is not a prime number\")\n",
        "elif n > 1:\n",
        "    for i in range(2, n):\n",
        "        if (n % i) == 0:\n",
        "            flag = 1\n",
        "            break\n",
        "if flag:\n",
        "    print(n, \"is not a prime number\")\n",
        "else:\n",
        "    print(n, \"is a prime number\")"
      ],
      "metadata": {
        "id": "XUpM9Rf5Yxmk",
        "colab": {
          "base_uri": "https://localhost:8080/"
        },
        "outputId": "30b2717b-121f-4395-b516-06d768458cbb"
      },
      "execution_count": null,
      "outputs": [
        {
          "output_type": "stream",
          "name": "stdout",
          "text": [
            "For Prime number\n",
            "Enter limit of Prime number: 68\n",
            "68 is not a prime number\n"
          ]
        }
      ]
    },
    {
      "cell_type": "code",
      "source": [
        "#To Print sum of series(1 + x/1 + x^2/2 + x^3/3 +...+x^n/n)\n",
        "x = int(input(\"Enter a number: \"))\n",
        "n = int(input(\"Enter a limit: \"))\n",
        "total = 1\n",
        "for i in range(1, n + 1):\n",
        "    total = total + ((x**i)/i)\n",
        "print(float(total))"
      ],
      "metadata": {
        "colab": {
          "base_uri": "https://localhost:8080/"
        },
        "id": "pt3KX-9WkVY4",
        "outputId": "b9ca6486-2019-46fd-8b94-69b4eb1f6f0f"
      },
      "execution_count": null,
      "outputs": [
        {
          "output_type": "stream",
          "name": "stdout",
          "text": [
            "Enter a number: 5\n",
            "Enter a limit: 6\n",
            "3445.583333333333\n"
          ]
        }
      ]
    },
    {
      "cell_type": "code",
      "source": [
        "#Object Orientetion in Python or Properties of Python\n",
        "#1. Class\n",
        "#2. Object\n",
        "#3. Abstraction\n",
        "#4. Polymorphism\n",
        "#5. Encapsulation\n",
        "#6. Inheritance\n",
        "#7. Exception Handling\n",
        "#8. Dynamic Binding\n",
        "#9. Message Passing"
      ],
      "metadata": {
        "id": "yXcSMIEsyvkD"
      },
      "execution_count": null,
      "outputs": []
    }
  ]
}